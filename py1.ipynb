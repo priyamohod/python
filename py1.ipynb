{
  "nbformat": 4,
  "nbformat_minor": 0,
  "metadata": {
    "colab": {
      "provenance": []
    },
    "kernelspec": {
      "name": "python3",
      "display_name": "Python 3"
    },
    "language_info": {
      "name": "python"
    }
  },
  "cells": [
    {
      "cell_type": "markdown",
      "source": [
        "1.Calculate area of circle"
      ],
      "metadata": {
        "id": "EvZ5qK8caTCJ"
      }
    },
    {
      "cell_type": "code",
      "source": [
        "\n",
        "print(\"area =\", 3.14 * float(input(\"enter the r:\", )) ** 2 )"
      ],
      "metadata": {
        "colab": {
          "base_uri": "https://localhost:8080/"
        },
        "id": "oSzOxdIxafHr",
        "outputId": "3dea9552-eb6b-4690-f98a-e9193f569b8e"
      },
      "execution_count": 20,
      "outputs": [
        {
          "output_type": "stream",
          "name": "stdout",
          "text": [
            "enter the r:5\n",
            "area = 78.5\n"
          ]
        }
      ]
    },
    {
      "cell_type": "markdown",
      "source": [
        "2. Find circumference of circle"
      ],
      "metadata": {
        "id": "OyNT56RgdTzo"
      }
    },
    {
      "cell_type": "code",
      "source": [
        "c=float(input(\"enter the r:\",))\n",
        "c=2*3.14*r\n",
        "print(c)"
      ],
      "metadata": {
        "colab": {
          "base_uri": "https://localhost:8080/"
        },
        "id": "BE1vkFLnafLC",
        "outputId": "69fc41aa-15b4-4264-a7b5-bd569371f58f"
      },
      "execution_count": null,
      "outputs": [
        {
          "output_type": "stream",
          "name": "stdout",
          "text": [
            "enter the r:5.6\n",
            "31.400000000000002\n"
          ]
        }
      ]
    },
    {
      "cell_type": "markdown",
      "source": [
        "3. Calculate area of rectangle"
      ],
      "metadata": {
        "id": "cNdpfVl2gRyy"
      }
    },
    {
      "cell_type": "code",
      "source": [
        "l=float(input(\"enter the l:\",))\n",
        "b=float(input(\"enter the b:\",))\n",
        "print(l*b)"
      ],
      "metadata": {
        "colab": {
          "base_uri": "https://localhost:8080/"
        },
        "id": "cmlWZmJ4g9Sl",
        "outputId": "c5a44f98-eb87-46b5-f855-0bf6cee960a4"
      },
      "execution_count": null,
      "outputs": [
        {
          "output_type": "stream",
          "name": "stdout",
          "text": [
            "enter the l:5\n",
            "enter the b:5.6\n",
            "28.0\n"
          ]
        }
      ]
    },
    {
      "cell_type": "markdown",
      "source": [
        "4. Calculate volume of sphere"
      ],
      "metadata": {
        "id": "xrSV3nOPhcSM"
      }
    },
    {
      "cell_type": "code",
      "source": [
        "r=float(input(\"enter the r:\",))\n",
        "volume=(4/3)*3.14*r*r*r\n",
        "print(volume)\n",
        "\n"
      ],
      "metadata": {
        "colab": {
          "base_uri": "https://localhost:8080/"
        },
        "id": "9MyoQJSlhgLW",
        "outputId": "dfd34d92-d4ef-4b59-a105-26a4efbe8aba"
      },
      "execution_count": null,
      "outputs": [
        {
          "output_type": "stream",
          "name": "stdout",
          "text": [
            "enter the r:2\n",
            "33.49333333333333\n"
          ]
        }
      ]
    },
    {
      "cell_type": "markdown",
      "source": [
        "\n",
        "5. Find surface area of sphere"
      ],
      "metadata": {
        "id": "3I26RSLsj1zw"
      }
    },
    {
      "cell_type": "code",
      "source": [
        "r=float(input(\"enter the r:\",))\n",
        "area = (4 * 3.15 * r * r)\n",
        "print(area)\n"
      ],
      "metadata": {
        "colab": {
          "base_uri": "https://localhost:8080/"
        },
        "id": "M_vDFtKaghIw",
        "outputId": "752fdd49-f62c-475b-c56b-a493e70dc30b"
      },
      "execution_count": 10,
      "outputs": [
        {
          "output_type": "stream",
          "name": "stdout",
          "text": [
            "enter the r:5\n",
            "315.0\n"
          ]
        }
      ]
    },
    {
      "cell_type": "markdown",
      "source": [
        "6. Find area of square"
      ],
      "metadata": {
        "id": "QyzyAehPlEtE"
      }
    },
    {
      "cell_type": "code",
      "source": [
        "s=float(input(\"enter the s:\",))\n",
        "area=s*s\n",
        "print(area)"
      ],
      "metadata": {
        "colab": {
          "base_uri": "https://localhost:8080/"
        },
        "id": "PPpm2-gIlKUA",
        "outputId": "78484b5d-b3b3-4a57-c332-5558e33d0ecd"
      },
      "execution_count": null,
      "outputs": [
        {
          "output_type": "stream",
          "name": "stdout",
          "text": [
            "enter the s:5.2\n",
            "27.040000000000003\n"
          ]
        }
      ]
    },
    {
      "cell_type": "markdown",
      "source": [
        "7.Find area of right angle triangle"
      ],
      "metadata": {
        "id": "LGy__uBCl1Xk"
      }
    },
    {
      "cell_type": "code",
      "source": [
        "b=float(input(\"enter the b:\",))\n",
        "h=float(input(\"enter the h:\",))\n",
        "area =(1/2)*b*h\n",
        "print(\"area of right angle traingle:\",area)"
      ],
      "metadata": {
        "colab": {
          "base_uri": "https://localhost:8080/"
        },
        "id": "Dg796I3Ll7NA",
        "outputId": "4c991a64-58ae-48f9-f516-cf239f920560"
      },
      "execution_count": null,
      "outputs": [
        {
          "output_type": "stream",
          "name": "stdout",
          "text": [
            "enter the b:2\n",
            "enter the h:6\n",
            "area of right angle traingle: 6.0\n"
          ]
        }
      ]
    },
    {
      "cell_type": "markdown",
      "source": [
        "8. Find area of equilateral triangle"
      ],
      "metadata": {
        "id": "BjsSqCQxm9Kb"
      }
    },
    {
      "cell_type": "code",
      "source": [
        "\n",
        "s=float(input(\"enter the s:\",))\n",
        "area=(math.sqrt(3)/4)*s*s\n",
        "print(\"area of equilateral traingle:\",area)"
      ],
      "metadata": {
        "colab": {
          "base_uri": "https://localhost:8080/"
        },
        "id": "Vyaeuj0WnD8L",
        "outputId": "4eb98655-4ecf-4f72-a174-a1e889ccb3da"
      },
      "execution_count": null,
      "outputs": [
        {
          "output_type": "stream",
          "name": "stdout",
          "text": [
            "enter the s:2\n",
            "area of equilateral traingle: 1.7320508075688772\n"
          ]
        }
      ]
    },
    {
      "cell_type": "markdown",
      "source": [
        "10. Find perimeter of rectangle"
      ],
      "metadata": {
        "id": "kKmV-liyrsri"
      }
    },
    {
      "cell_type": "code",
      "source": [
        "l=float(input(\"enter the l:\" ))\n",
        "b=float(input(\"enter the b:\" ))\n",
        "perimeter=2*(l+b)\n",
        "print(\"perimeter:\",perimeter)"
      ],
      "metadata": {
        "colab": {
          "base_uri": "https://localhost:8080/"
        },
        "id": "PdVM4mm6rzx4",
        "outputId": "c0bd1d6c-1dd4-4351-86da-2e555d313b12"
      },
      "execution_count": 12,
      "outputs": [
        {
          "output_type": "stream",
          "name": "stdout",
          "text": [
            "enter the l:5\n",
            "enter the b:5\n",
            "perimeter: 20.0\n"
          ]
        }
      ]
    },
    {
      "cell_type": "code",
      "source": [
        "11. Find area of triangle"
      ],
      "metadata": {
        "id": "owj1gTU-rz1M"
      },
      "execution_count": null,
      "outputs": []
    },
    {
      "cell_type": "code",
      "source": [
        "b=float(input(\"enter the b:\",))\n",
        "h=float(input(\"enter the h:\",))\n",
        "area =(1/2)*b*h\n",
        "print(\"area of traingle:\",area)"
      ],
      "metadata": {
        "colab": {
          "base_uri": "https://localhost:8080/"
        },
        "id": "c2wtqrTcudVe",
        "outputId": "8bbc2184-2936-433e-b72d-acffcd06a8b2"
      },
      "execution_count": null,
      "outputs": [
        {
          "output_type": "stream",
          "name": "stdout",
          "text": [
            "enter the b:2\n",
            "enter the h:5\n",
            "area of traingle: 5.0\n"
          ]
        }
      ]
    },
    {
      "cell_type": "markdown",
      "source": [
        "12. Find simple interest"
      ],
      "metadata": {
        "id": "tm5Ml029uVbj"
      }
    },
    {
      "cell_type": "code",
      "source": [
        "p=float(input(\"enter the p:\",))\n",
        "r=float(input(\"enter the r:\",))\n",
        "n=float(input(\"enter the n:\",))\n",
        "SI=(p*r*n)/100\n",
        "print(\"simple intrest:\", SI)"
      ],
      "metadata": {
        "colab": {
          "base_uri": "https://localhost:8080/"
        },
        "id": "F0E6YaOBvq_b",
        "outputId": "9c6f1f0c-b38e-45a8-ef36-13cb2a8cdb5e"
      },
      "execution_count": null,
      "outputs": [
        {
          "output_type": "stream",
          "name": "stdout",
          "text": [
            "enter the p:25000\n",
            "enter the r:10\n",
            "enter the n:1\n",
            "simple intrest: 2500.0\n"
          ]
        }
      ]
    },
    {
      "cell_type": "markdown",
      "source": [
        "13. Find compound interest"
      ],
      "metadata": {
        "id": "gPWht_iSxJ6A"
      }
    },
    {
      "cell_type": "code",
      "source": [
        "p=float(input(\"enter the amount p:\",))\n",
        "r=float(input(\"enter the rate r:\",))\n",
        "n=float(input(\"enter the no. of year n:\",))\n",
        "a=p*(1+r/100)*n\n",
        "print(a-p)\n",
        "print(a)"
      ],
      "metadata": {
        "id": "5smAnfqhxOQ6"
      },
      "execution_count": null,
      "outputs": []
    },
    {
      "cell_type": "code",
      "source": [
        "\n",
        "\n",
        "p=float(input(\"Enter Amount:\"))\n",
        "r=float(input(\"rate of interest:\"))\n",
        "t=float(input(\"Enter time in years0:\"))\n",
        "a=p*(1+r/100)**t\n",
        "print(\"Compound interest:\",a-p)\n",
        "\n"
      ],
      "metadata": {
        "colab": {
          "base_uri": "https://localhost:8080/"
        },
        "id": "I6PaPgFSz-g4",
        "outputId": "cb25b7e5-dd25-4d26-e4c8-4e0dd6772bf5"
      },
      "execution_count": null,
      "outputs": [
        {
          "output_type": "stream",
          "name": "stdout",
          "text": [
            "Enter Amount:500\n",
            "rate of interest:10\n",
            "Enter time in years0:1\n",
            "Compound interest: 50.0\n"
          ]
        }
      ]
    },
    {
      "cell_type": "markdown",
      "source": [
        "13. Convert days into years"
      ],
      "metadata": {
        "id": "FnhoAatI0yjH"
      }
    },
    {
      "cell_type": "code",
      "source": [
        "d=float(input(\"Enter days:\"))\n",
        "y=d/365\n",
        "print(y)"
      ],
      "metadata": {
        "colab": {
          "base_uri": "https://localhost:8080/"
        },
        "id": "S0SogBO400BA",
        "outputId": "ed6743d7-76eb-4794-be9d-1e38f8a29b1c"
      },
      "execution_count": null,
      "outputs": [
        {
          "output_type": "stream",
          "name": "stdout",
          "text": [
            "Enter days:90\n",
            "0.2465753424657534\n"
          ]
        }
      ]
    },
    {
      "cell_type": "code",
      "source": [
        "d=float(input(\"Enter days:\"))\n",
        "y = d / 365\n",
        "print(y)"
      ],
      "metadata": {
        "colab": {
          "base_uri": "https://localhost:8080/"
        },
        "id": "gmGDiNDe_son",
        "outputId": "1ef01f1e-9a84-416a-82af-c84dce38e661"
      },
      "execution_count": 5,
      "outputs": [
        {
          "output_type": "stream",
          "name": "stdout",
          "text": [
            "Enter days:180\n",
            "0.4931506849315068\n"
          ]
        }
      ]
    },
    {
      "cell_type": "markdown",
      "source": [
        "14. Fahrenheit to Celsius conversion"
      ],
      "metadata": {
        "id": "yqf-ejqu12qa"
      }
    },
    {
      "cell_type": "code",
      "source": [
        "f=float(input(\"enter the tem in fahrent f:\"))\n",
        "c = ((5 / 9) * (f - 32 ))\n",
        "print(c)"
      ],
      "metadata": {
        "colab": {
          "base_uri": "https://localhost:8080/"
        },
        "id": "t4PQa9uV17fU",
        "outputId": "741179bf-4701-4faf-9ff9-10cd378f794d"
      },
      "execution_count": 6,
      "outputs": [
        {
          "output_type": "stream",
          "name": "stdout",
          "text": [
            "enter the tem in fahrent f:100\n",
            "37.77777777777778\n"
          ]
        }
      ]
    }
  ]
}